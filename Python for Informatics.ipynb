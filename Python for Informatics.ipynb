{
 "cells": [
  {
   "cell_type": "markdown",
   "metadata": {},
   "source": [
    "# Python for Informatics"
   ]
  },
  {
   "cell_type": "markdown",
   "metadata": {},
   "source": [
    "### Chapter 2: Variables, Expressions and Statements"
   ]
  },
  {
   "cell_type": "markdown",
   "metadata": {},
   "source": [
    "#### Input Name"
   ]
  },
  {
   "cell_type": "code",
   "execution_count": null,
   "metadata": {},
   "outputs": [],
   "source": [
    "# Take user input and print it\n",
    "inp = input('What is your name \\n')\n",
    "print(inp)"
   ]
  },
  {
   "cell_type": "markdown",
   "metadata": {},
   "source": [
    "#### Exercise 2\n",
    "Write a program that uses raw_input to prompt a user for their\n",
    "name and then welcomes them."
   ]
  },
  {
   "cell_type": "code",
   "execution_count": null,
   "metadata": {},
   "outputs": [],
   "source": [
    "# Exercise 2\n",
    "inp = input(\"Enter your name:\")\n",
    "print(\"Hello \" + inp)"
   ]
  },
  {
   "cell_type": "markdown",
   "metadata": {},
   "source": [
    "#### Exercise 3\n",
    "Write a program to prompt the user for hours and rate per hour to\n",
    "compute gross pay."
   ]
  },
  {
   "cell_type": "code",
   "execution_count": null,
   "metadata": {},
   "outputs": [],
   "source": [
    "# Exercise 3\n",
    "hours = input(\"Enter Hours: \")\n",
    "rate = input(\"Enter Rate: \")\n",
    "pay = float(hours) * float(rate)\n",
    "print(pay)"
   ]
  },
  {
   "cell_type": "markdown",
   "metadata": {},
   "source": [
    "#### Exercise 4\n",
    "Assume that we execute the following assignment statements:\n",
    "\n",
    "width = 17\n",
    "height = 12.0\n",
    "\n",
    "For each of the following expressions, write the value of the expression and the type (of the value of the expression).\n",
    "1. width/2\n",
    "2. width/2.0\n",
    "3. height/3\n",
    "4. 1 + 2 * 5"
   ]
  },
  {
   "cell_type": "code",
   "execution_count": null,
   "metadata": {},
   "outputs": [],
   "source": [
    "# Exercise 4.1\n",
    "width = 17\n",
    "height = 12.0\n",
    "\n",
    "print(width//2)\n",
    "type(width//2)"
   ]
  },
  {
   "cell_type": "code",
   "execution_count": null,
   "metadata": {},
   "outputs": [],
   "source": [
    "# Exercise 4.2\n",
    "width = 17\n",
    "height = 12.0\n",
    "\n",
    "print(width/2.0)\n",
    "type(width/2.0)"
   ]
  },
  {
   "cell_type": "code",
   "execution_count": null,
   "metadata": {},
   "outputs": [],
   "source": [
    "# Exercise 4.3\n",
    "width = 17\n",
    "height = 12.0\n",
    "\n",
    "print(height/3)\n",
    "type(height/3)"
   ]
  },
  {
   "cell_type": "code",
   "execution_count": null,
   "metadata": {},
   "outputs": [],
   "source": [
    "# Exercise 4.4\n",
    "print(1+2*5)\n",
    "type(1+2*5)"
   ]
  },
  {
   "cell_type": "markdown",
   "metadata": {},
   "source": [
    "#### Exercise 5\n",
    "Write a program which prompts the user for a Celsius temperature,\n",
    "convert the temperature to Fahrenheit, and print out the converted temperature."
   ]
  },
  {
   "cell_type": "code",
   "execution_count": null,
   "metadata": {},
   "outputs": [],
   "source": [
    "celsius = input (\"Temperature in Celsius: \")\n",
    "farenheit = (float(celsius) * 9/5) + 32\n",
    "print(farenheit)"
   ]
  },
  {
   "cell_type": "markdown",
   "metadata": {},
   "source": [
    "### Chapter 3: Conditional Execution"
   ]
  },
  {
   "cell_type": "markdown",
   "metadata": {},
   "source": [
    "#### Exercise 1\n",
    "Rewrite your pay computation to give the employee 1.5 times the\n",
    "hourly rate for hours worked above 40 hours."
   ]
  },
  {
   "cell_type": "code",
   "execution_count": null,
   "metadata": {},
   "outputs": [],
   "source": [
    "hours = float(input(\"Enter Hours: \"))\n",
    "rate = float(input(\"Enter Rate: \"))\n",
    "if hours <= 40:\n",
    "    pay = hours * rate\n",
    "elif hours > 40:\n",
    "    reg_pay = 40 * rate\n",
    "    ot_pay = (hours - 40) * 1.5 * rate\n",
    "    pay = reg_pay + ot_pay\n",
    "    \n",
    "print (\"Pay: \" + str(pay))"
   ]
  },
  {
   "cell_type": "markdown",
   "metadata": {},
   "source": [
    "#### Exercise 2\n",
    "Rewrite your pay program using try and except so that your program\n",
    "handles non-numeric input gracefully by printing a message and exiting the\n",
    "program."
   ]
  },
  {
   "cell_type": "code",
   "execution_count": null,
   "metadata": {},
   "outputs": [],
   "source": [
    "try:\n",
    "    hours = float(input(\"Enter Hours: \"))\n",
    "    rate = float(input(\"Enter Rate: \"))\n",
    "    if hours <= 40:\n",
    "        pay = hours * rate\n",
    "    elif hours > 40:\n",
    "        reg_pay = 40 * rate\n",
    "        ot_pay = (hours - 40) * 1.5 * rate\n",
    "        pay = reg_pay + ot_pay\n",
    "\n",
    "    print (\"Pay: \" + str(pay))\n",
    "\n",
    "except:\n",
    "    print (\"Error, please enter numeric input\")"
   ]
  },
  {
   "cell_type": "markdown",
   "metadata": {},
   "source": [
    "#### Exercise 3\n",
    "Write a program to prompt for a score between 0.0 and 1.0. If the\n",
    "score is out of range, print an error message. If the score is between 0.0 and 1.0, print a grade using the following table:\n",
    "\n",
    "Score Grade\n",
    "\n",
    "A >= 0.9\n",
    "\n",
    "B >= 0.8\n",
    "\n",
    "C >= 0.7 \n",
    "\n",
    "D >= 0.6 \n",
    "\n",
    "F < 0.6 "
   ]
  },
  {
   "cell_type": "code",
   "execution_count": null,
   "metadata": {},
   "outputs": [],
   "source": [
    "try:\n",
    "    score = float(input(\"Enter score: \"))\n",
    "    if score >= 0 and score <= 1:\n",
    "        if score >= 0.9:\n",
    "            print(\"A\")\n",
    "        elif score >= 0.8 and score < 0.9:\n",
    "            print(\"B\")\n",
    "        elif score >= 0.7 and score < 0.8:\n",
    "            print(\"C\")\n",
    "        elif score >= 0.6 and score < 0.7:\n",
    "            print(\"D\")\n",
    "        elif score < 0.6:\n",
    "            print(\"F\")\n",
    "    else:\n",
    "        print(\"Bad score\")\n",
    "        \n",
    "except:\n",
    "    print(\"Bad score\")"
   ]
  },
  {
   "cell_type": "markdown",
   "metadata": {},
   "source": [
    "### Chapter 4: Functions"
   ]
  },
  {
   "cell_type": "markdown",
   "metadata": {},
   "source": [
    "#### Exercise 2\n",
    "Move the last line of this program to the top, so the function call\n",
    "appears before the definitions. Run the program and see what error message you\n",
    "get."
   ]
  },
  {
   "cell_type": "code",
   "execution_count": null,
   "metadata": {},
   "outputs": [],
   "source": [
    "repeat_lyrics()\n",
    "\n",
    "def print_lyrics():\n",
    "    print(\"I'm a lumberjack, and I'm okay.\")\n",
    "    print('I sleep all night and I work all day.')\n",
    "def repeat_lyrics():\n",
    "    print_lyrics()\n",
    "    print_lyrics()\n"
   ]
  },
  {
   "cell_type": "markdown",
   "metadata": {},
   "source": [
    "#### Exercise 3\n",
    "Move the function call back to the bottom and move the definition of\n",
    "print_lyrics after the definition of repeat_lyrics. What happens when you\n",
    "run this program?"
   ]
  },
  {
   "cell_type": "code",
   "execution_count": null,
   "metadata": {},
   "outputs": [],
   "source": [
    "def repeat_lyrics():\n",
    "    print_lyrics()\n",
    "    print_lyrics()\n",
    "    \n",
    "def print_lyrics():\n",
    "    print(\"I'm a lumberjack, and I'm okay.\")\n",
    "    print('I sleep all night and I work all day.')\n",
    "\n",
    "repeat_lyrics()"
   ]
  },
  {
   "cell_type": "markdown",
   "metadata": {},
   "source": [
    "#### Exercise 5\n",
    "What will the following Python program print out?"
   ]
  },
  {
   "cell_type": "code",
   "execution_count": null,
   "metadata": {},
   "outputs": [],
   "source": [
    "def fred():\n",
    "    print(\"Zap\")\n",
    "\n",
    "def jane():\n",
    "    print(\"ABC\")\n",
    "\n",
    "jane()\n",
    "fred()\n",
    "jane()"
   ]
  },
  {
   "cell_type": "markdown",
   "metadata": {},
   "source": [
    "#### Exercise 6\n",
    "Rewrite your pay computation with time-and-a-half for overtime\n",
    "and create a function called computepay which takes two parameters (hours and\n",
    "rate)."
   ]
  },
  {
   "cell_type": "code",
   "execution_count": null,
   "metadata": {},
   "outputs": [],
   "source": [
    "def computepay(hours, rate):\n",
    "    hours = float(hours)\n",
    "    rate = float(rate)\n",
    "    if hours <= 40:\n",
    "        pay = rate * hours\n",
    "    elif hours > 40:\n",
    "        reg_pay = 40 * rate\n",
    "        ot_pay = 1.5 * rate * (hours - 40)\n",
    "        pay = reg_pay + ot_pay\n",
    "    return pay\n",
    "\n",
    "h = input(\"Enter Hours: \")\n",
    "r = input(\"Enter Rate: \")\n",
    "\n",
    "print(\"Pay: \" + str(computepay(h,r)))"
   ]
  },
  {
   "cell_type": "markdown",
   "metadata": {},
   "source": [
    "#### Exercise 7\n",
    "Rewrite the grade program from the previous chapter using a function\n",
    "called computegrade that takes a score as its parameter and returns a grade\n",
    "as a string."
   ]
  },
  {
   "cell_type": "code",
   "execution_count": null,
   "metadata": {},
   "outputs": [],
   "source": [
    "def computegrade(score):\n",
    "    if score >= 0.9:\n",
    "            grade = \"A\"\n",
    "    elif score >= 0.8 and score < 0.9:\n",
    "            grade = \"B\"\n",
    "    elif score >= 0.7 and score < 0.8:\n",
    "            grade = \"C\"\n",
    "    elif score >= 0.6 and score < 0.7:\n",
    "            grade = \"D\"\n",
    "    elif score < 0.6:\n",
    "            grade = \"F\"\n",
    "    return grade\n",
    "\n",
    "try:\n",
    "    score = float(input(\"Enter score: \"))\n",
    "    if score >= 0 and score <= 1:\n",
    "        print(computegrade(score))\n",
    "    else:\n",
    "        print(\"Bad score\")\n",
    "        \n",
    "except:\n",
    "    print(\"Bad score\")"
   ]
  },
  {
   "cell_type": "markdown",
   "metadata": {},
   "source": [
    "### Chapter 5: Iteration"
   ]
  },
  {
   "cell_type": "markdown",
   "metadata": {},
   "source": [
    "#### Exercise 1\n",
    "Write a program which repeatedly reads numbers until the user enters\n",
    "“done”. Once “done” is entered, print out the total, count, and average of\n",
    "the numbers. If the user enters anything other than a number, detect their mistake using try and except and print an error message and skip to the next number."
   ]
  },
  {
   "cell_type": "code",
   "execution_count": null,
   "metadata": {},
   "outputs": [],
   "source": [
    "total = 0\n",
    "count = 0\n",
    "average = 0\n",
    "while True:\n",
    "    try:\n",
    "        inp = input('Enter a number: ')\n",
    "        if inp == 'done':\n",
    "            break\n",
    "        else:\n",
    "            inp = float(inp)  \n",
    "            total = total + inp\n",
    "            count = count + 1\n",
    "            average = total / count\n",
    "    except:\n",
    "        print(\"Invalid input\")    \n",
    "        \n",
    "print(total, count, average) \n"
   ]
  },
  {
   "cell_type": "markdown",
   "metadata": {},
   "source": [
    "#### Exercise 2\n",
    "Write another program that prompts for a list of numbers as above\n",
    "and at the end prints out both the maximum and minimum of the numbers instead\n",
    "of the average."
   ]
  },
  {
   "cell_type": "code",
   "execution_count": null,
   "metadata": {},
   "outputs": [],
   "source": [
    "mini = None\n",
    "maxi = None\n",
    "while True:\n",
    "    try:\n",
    "        inp = input('Enter a number: ')\n",
    "        if inp == 'done':\n",
    "            break\n",
    "        else:\n",
    "            inp = float(inp)  \n",
    "            if mini is None or inp < mini:\n",
    "                mini = inp\n",
    "            elif maxi is None or inp > maxi:\n",
    "                maxi = inp                \n",
    "    except:\n",
    "        print(\"Invalid input\")    \n",
    "        \n",
    "print(maxi, mini) "
   ]
  },
  {
   "cell_type": "markdown",
   "metadata": {},
   "source": [
    "### Chapter 6: Strings"
   ]
  },
  {
   "cell_type": "markdown",
   "metadata": {},
   "source": [
    "#### Exercise 1\n",
    "Write a while loop that starts at the last character in the string and\n",
    "works its way backwards to the first character in the string, printing each letter on a separate line, except backwards."
   ]
  },
  {
   "cell_type": "code",
   "execution_count": 29,
   "metadata": {},
   "outputs": [
    {
     "name": "stdout",
     "output_type": "stream",
     "text": [
      "a\n",
      "n\n",
      "a\n",
      "n\n",
      "a\n",
      "b\n"
     ]
    }
   ],
   "source": [
    "fruit = 'banana'\n",
    "index = len(fruit) - 1\n",
    "while index >= 0:\n",
    "    letter = fruit[index]\n",
    "    print(letter)\n",
    "    index = index - 1"
   ]
  },
  {
   "cell_type": "markdown",
   "metadata": {},
   "source": [
    "#### Exercise 2\n",
    "Given that fruit is a string, what does fruit [: ] mean?"
   ]
  },
  {
   "cell_type": "code",
   "execution_count": 30,
   "metadata": {},
   "outputs": [
    {
     "data": {
      "text/plain": [
       "'banana'"
      ]
     },
     "execution_count": 30,
     "metadata": {},
     "output_type": "execute_result"
    }
   ],
   "source": [
    "fruit[:]"
   ]
  },
  {
   "cell_type": "markdown",
   "metadata": {},
   "source": [
    "#### Exercise 3\n",
    "Encapsulate this code in a function named count, and generalize it\n",
    "so that it accepts the string and the letter as arguments."
   ]
  },
  {
   "cell_type": "code",
   "execution_count": null,
   "metadata": {},
   "outputs": [],
   "source": [
    "def count(word):\n",
    "    cont = 0\n",
    "    for letter in word:\n",
    "        if letter == 'a':\n",
    "            cont = cont + 1\n",
    "    return cont\n",
    "\n",
    "count('banana')"
   ]
  },
  {
   "cell_type": "markdown",
   "metadata": {},
   "source": [
    "#### Exercise 4\n",
    "There is a string method called count that is similar to the function\n",
    "in the previous exercise. Read the documentation of this method at https://\n",
    "docs.python.org/2/library/stdtypes.html#string-methods and write an\n",
    "invocation that counts the number of times the letter a occurs in 'banana'."
   ]
  },
  {
   "cell_type": "code",
   "execution_count": null,
   "metadata": {},
   "outputs": [],
   "source": [
    "fruit.count('a')"
   ]
  },
  {
   "cell_type": "code",
   "execution_count": null,
   "metadata": {},
   "outputs": [],
   "source": [
    "# Examples of format operators \n",
    "camels = 42\n",
    "'%d camels' % camels\n",
    "\n",
    "'In %d years I have spotted %g %s.' %(3, 0.1, 'camels')"
   ]
  },
  {
   "cell_type": "markdown",
   "metadata": {},
   "source": [
    "#### Exercise 5\n",
    "Take the following Python code that stores a string:\n",
    "\n",
    "str = 'X-DSPAM-Confidence: 0.8475'\n",
    "\n",
    "Use find and string slicing to extract the portion of the string after the colon character and then use the float function to convert the extracted string into a floating point number."
   ]
  },
  {
   "cell_type": "code",
   "execution_count": null,
   "metadata": {},
   "outputs": [],
   "source": [
    "str = 'X-DSPAM-Confidence:0.8475'\n",
    "pos = str.find(':')\n",
    "\n",
    "dec = float(str[pos+1:])\n",
    "dec"
   ]
  },
  {
   "cell_type": "markdown",
   "metadata": {},
   "source": [
    "### Chapter 7: Files"
   ]
  },
  {
   "cell_type": "markdown",
   "metadata": {},
   "source": [
    "#### Exercise 1\n",
    "Write a program to read through a file and print the contents of the\n",
    "file (line by line) all in upper case."
   ]
  },
  {
   "cell_type": "code",
   "execution_count": null,
   "metadata": {},
   "outputs": [],
   "source": [
    "file = open('mbox-short.txt')\n",
    "for line in file:\n",
    "    up = line.upper()\n",
    "    print(up)"
   ]
  },
  {
   "cell_type": "markdown",
   "metadata": {},
   "source": [
    "#### Exercise 2\n",
    "Write a program to prompt for a file name, and then read through\n",
    "the file and look for lines of the form:\n",
    "\n",
    "X-DSPAM-Confidence: 0.8475\n",
    "\n",
    "When you encounter a line that starts with “X-DSPAM-Confidence:” pull apart\n",
    "the line to extract the floating-point number on the line. Count these lines and then compute the total of the spam confidence values from these lines. When you reach the end of the file, print out the average spam confidence."
   ]
  },
  {
   "cell_type": "code",
   "execution_count": null,
   "metadata": {},
   "outputs": [],
   "source": [
    "# Exercise 2\n",
    "inp = input('Enter the file name: ')\n",
    "fileinp = open(inp)\n",
    "flt = 0\n",
    "count = 0\n",
    "for line in fileinp:\n",
    "    line = line.rstrip()\n",
    "    if not line.startswith(\"X-DSPAM-Confidence:\"): continue\n",
    "    pos = line.find(\":\")\n",
    "    flt = float(line[pos+1:]) + flt\n",
    "    count = count + 1\n",
    "\n",
    "avg = flt/count\n",
    "print(\"Average spam confidence:\", avg)"
   ]
  },
  {
   "cell_type": "markdown",
   "metadata": {},
   "source": [
    "#### Exercise 3\n",
    "Sometimes when programmers get bored or want to have a bit of fun,\n",
    "they add a harmless Easter Egg to their program (en.wikipedia.org/wiki/\n",
    "Easter_egg_(media)). Modify the program that prompts the user for the file\n",
    "name so that it prints a funny message when the user types in the exact file name “na na boo boo”. The program should behave normally for all other files which exist and don’t exist."
   ]
  },
  {
   "cell_type": "code",
   "execution_count": null,
   "metadata": {},
   "outputs": [],
   "source": [
    "inp = input('Enter the file name: ')\n",
    "try:\n",
    "    fileinp = open(inp)\n",
    "except:\n",
    "    print(inp.upper(), \"TO YOU - You have been punk'd\")\n",
    "    exit()\n",
    "    \n",
    "for line in fileinp:\n",
    "    line = line.rstrip()\n",
    "    if not line.startswith(\"X-DSPAM-Confidence:\"): continue\n",
    "    pos = line.find(\":\")\n",
    "    flt = line[pos+1:]\n",
    "    print(\"Average spam confidence:\", flt)"
   ]
  },
  {
   "cell_type": "markdown",
   "metadata": {},
   "source": [
    "### Chapter 8: Lists"
   ]
  },
  {
   "cell_type": "markdown",
   "metadata": {},
   "source": [
    "#### Exercise 1\n",
    "Write a function called chop that takes a list and modifies it, removing\n",
    "the first and last elements, and returns None. Then write a function called middle that takes a list and returns a new list that contains all but the first and last elements."
   ]
  },
  {
   "cell_type": "code",
   "execution_count": null,
   "metadata": {},
   "outputs": [],
   "source": [
    "def chop(t):\n",
    "    t = t[1:-1]\n",
    "    return t # returns all except first and last\n",
    "\n",
    "def middle(t):\n",
    "    return t[1:-1]\n",
    "\n",
    "c = [1,2,3,4]\n",
    "middle(c)"
   ]
  },
  {
   "cell_type": "markdown",
   "metadata": {},
   "source": [
    "#### Exercise 4\n",
    "Download a copy of the file from www.py4inf.com/code/romeo.txt\n",
    "Write a program to open the file romeo.txt and read it line by line. For each line, split the line into a list of words using the split function.\n",
    "For each word, check to see if the word is already in a list. If the word is not in the list, add it to the list. When the program completes, sort and print the resulting words in alphabetical order."
   ]
  },
  {
   "cell_type": "code",
   "execution_count": null,
   "metadata": {},
   "outputs": [],
   "source": [
    "file = open('romeo.txt')\n",
    "t = []\n",
    "for line in file:\n",
    "    word = line.split()\n",
    "    for i in word:\n",
    "        if i in t: continue\n",
    "        t.append(i)\n",
    "    \n",
    "t.sort()\n",
    "print(t)"
   ]
  },
  {
   "cell_type": "markdown",
   "metadata": {},
   "source": [
    "#### Exercise 5\n",
    "Write a program to read through the mail box data and when you\n",
    "find line that starts with “From”, you will split the line into words using the split function. We are interested in who sent the message, which is the second word on the From line.\n",
    "\n",
    "From stephen.marquard@uct.ac.za Sat Jan 5 09:14:16 2008\n",
    "\n",
    "You will parse the From line and print out the second word for each From line,\n",
    "then you will also count the number of From (not From:) lines and print out a\n",
    "count at the end."
   ]
  },
  {
   "cell_type": "code",
   "execution_count": null,
   "metadata": {},
   "outputs": [],
   "source": [
    "file = open('mbox-short.txt')\n",
    "count = 0\n",
    "\n",
    "for line in file:\n",
    "    word = line.split()\n",
    "    if len(word) == 0: continue\n",
    "    if word[0] == 'From':\n",
    "        count += 1\n",
    "        print(word[1])\n",
    "\n",
    "print(\"There were \", count, \" lines in the file with From as the first word.\")"
   ]
  },
  {
   "cell_type": "markdown",
   "metadata": {},
   "source": [
    "#### Exercise 6\n",
    "Rewrite the program that prompts the user for a list of numbers and\n",
    "prints out the maximum and minimum of the numbers at the end when the user\n",
    "enters “done”. Write the program to store the numbers the user enters in a list\n",
    "and use the max() and min() functions to compute the maximum and minimum\n",
    "numbers after the loop completes."
   ]
  },
  {
   "cell_type": "code",
   "execution_count": null,
   "metadata": {},
   "outputs": [],
   "source": [
    "t = []\n",
    "while True:\n",
    "    try:\n",
    "        inp = input(\"Enter a number: \")   \n",
    "        if inp == 'done': \n",
    "            break\n",
    "        else:\n",
    "            flt = float(inp)\n",
    "            t.append(flt)\n",
    "    except:\n",
    "        print(\"Invalid Number!\")\n",
    "    \n",
    "print(\"Maximum :\", max(t))\n",
    "print(\"Minimum: \", min(t))"
   ]
  },
  {
   "cell_type": "markdown",
   "metadata": {},
   "source": [
    "### Chapter 9: Dictionaries"
   ]
  },
  {
   "cell_type": "markdown",
   "metadata": {},
   "source": [
    "#### Exercise 1\n",
    "Write a program that reads the words in words.txt and stores them\n",
    "as keys in a dictionary. It doesn’t matter what the values are. Then you can use the in operator as a fast way to check whether a string is in the dictionary."
   ]
  },
  {
   "cell_type": "code",
   "execution_count": null,
   "metadata": {},
   "outputs": [],
   "source": [
    "# Exercise 1\n",
    "file = open('romeo.txt')\n",
    "d = dict()\n",
    "for line in file:\n",
    "    word = line.split()\n",
    "    for i in word:\n",
    "        d[i] = d.get(i,0) + 1\n",
    "\n",
    "print(d)\n",
    "'in' in d"
   ]
  },
  {
   "cell_type": "markdown",
   "metadata": {},
   "source": [
    "#### Exercise 2\n",
    "Write a program that categorizes each mail message by which day\n",
    "of the week the commit was done. To do this look for lines that start with “From”, then look for the third word and keep a running count of each of the days of the week. At the end of the program print out the contents of your dictionary (order does not matter)."
   ]
  },
  {
   "cell_type": "code",
   "execution_count": null,
   "metadata": {},
   "outputs": [],
   "source": [
    "try:\n",
    "    fname = input(\"Enter a file name: \")\n",
    "    file = open(fname)\n",
    "except:\n",
    "    print(\"Please enter valid file name\")\n",
    "d = dict()    \n",
    "for line in file:\n",
    "    word = line.split()\n",
    "    if len(word) > 0 and word [0] == 'From':\n",
    "        d[word[2]] = d.get(word[2],0) + 1\n",
    "print(d)"
   ]
  },
  {
   "cell_type": "markdown",
   "metadata": {},
   "source": [
    "#### Exercise 3\n",
    "Write a program to read through a mail log, build a histogram using\n",
    "a dictionary to count how many messages have come from each email address,\n",
    "and print the dictionary."
   ]
  },
  {
   "cell_type": "code",
   "execution_count": 3,
   "metadata": {},
   "outputs": [
    {
     "name": "stdout",
     "output_type": "stream",
     "text": [
      "Enter a file name: mbox-short.txt\n",
      "{'stephen.marquard@uct.ac.za': 2, 'louis@media.berkeley.edu': 3, 'zqian@umich.edu': 4, 'rjlowe@iupui.edu': 2, 'cwen@iupui.edu': 5, 'gsilver@umich.edu': 3, 'wagnermr@iupui.edu': 1, 'antranig@caret.cam.ac.uk': 1, 'gopal.ramasammycook@gmail.com': 1, 'david.horwitz@uct.ac.za': 4, 'ray@media.berkeley.edu': 1}\n"
     ]
    }
   ],
   "source": [
    "try:\n",
    "    fname = input(\"Enter a file name: \")\n",
    "    file = open(fname)\n",
    "except:\n",
    "    print(\"Please enter valid file name\")\n",
    "    \n",
    "d = dict()    \n",
    "for line in file:\n",
    "    word = line.split()\n",
    "    if len(word) > 0 and word [0] == 'From':\n",
    "        d[word[1]] = d.get(word[1],0) + 1\n",
    "print(d)"
   ]
  },
  {
   "cell_type": "markdown",
   "metadata": {},
   "source": [
    "#### Exercise 4\n",
    "Add code to the above program to figure out who has the most messages\n",
    "in the file. After all the data has been read and the dictionary has been created, look through the dictionary using a maximum loop (see Section 5.7.2) to find who has the most messages and print how many messages the person has."
   ]
  },
  {
   "cell_type": "code",
   "execution_count": null,
   "metadata": {},
   "outputs": [],
   "source": [
    "try:\n",
    "    fname = input(\"Enter a file name: \")\n",
    "    file = open(fname)\n",
    "except:\n",
    "    print(\"Please enter valid file name\")\n",
    "d = dict()    \n",
    "for line in file:\n",
    "    word = line.split()\n",
    "    if len(word) > 0 and word [0] == 'From':\n",
    "        d[word[1]] = d.get(word[1],0) + 1\n",
    "maxi = None\n",
    "for i in d:\n",
    "    if maxi is None or d[i] > maxi:\n",
    "        val, maxi = i, d[i]\n",
    "\n",
    "print(val, maxi)"
   ]
  },
  {
   "cell_type": "markdown",
   "metadata": {},
   "source": [
    "#### Exercise 5\n",
    "This program records the domain name (instead of the address)\n",
    "where the message was sent from instead of who the mail came from (i.e., the\n",
    "whole email address). At the end of the program, print out the contents of your\n",
    "dictionary."
   ]
  },
  {
   "cell_type": "code",
   "execution_count": 8,
   "metadata": {},
   "outputs": [
    {
     "name": "stdout",
     "output_type": "stream",
     "text": [
      "Enter a file name: mbox-short.txt\n",
      "{'uct.ac.za': 6, 'media.berkeley.edu': 4, 'umich.edu': 7, 'iupui.edu': 8, 'caret.cam.ac.uk': 1, 'gmail.com': 1}\n"
     ]
    }
   ],
   "source": [
    "try:\n",
    "    fname = input(\"Enter a file name: \")\n",
    "    file = open(fname)\n",
    "except:\n",
    "    print(\"Please enter valid file name\")\n",
    "d = dict()    \n",
    "for line in file:\n",
    "    word = line.split()\n",
    "    if len(word) > 0 and word [0] == 'From':\n",
    "        wrd = word[1]\n",
    "        pos = wrd.find(\"@\")\n",
    "        wrd = wrd[pos+1:]\n",
    "        d[wrd] = d.get(wrd,0)+1\n",
    "print(d)\n"
   ]
  },
  {
   "cell_type": "markdown",
   "metadata": {},
   "source": [
    "### Chapter 10: Tuples"
   ]
  },
  {
   "cell_type": "markdown",
   "metadata": {},
   "source": [
    "#### Exercise 1\n",
    "Revise a previous program as follows: Read and parse the “From”\n",
    "lines and pull out the addresses from the line. Count the number of messages from each person using a dictionary.\n",
    "\n",
    "After all the data has been read, print the person with the most commits by creating a list of (count, email) tuples from the dictionary. Then sort the list in reverse order and print out the person who has the most commits."
   ]
  },
  {
   "cell_type": "code",
   "execution_count": 8,
   "metadata": {},
   "outputs": [
    {
     "name": "stdout",
     "output_type": "stream",
     "text": [
      "Enter a file name: mbox-short.txt\n",
      "cwen@iupui.edu 5\n"
     ]
    }
   ],
   "source": [
    "try:\n",
    "    fname = input(\"Enter a file name: \")\n",
    "    file = open(fname)\n",
    "except:\n",
    "    print(\"Please enter valid file name\")\n",
    "d = dict()    \n",
    "t = list()\n",
    "for line in file:\n",
    "    word = line.split()\n",
    "    if len(word) > 0 and word [0] == 'From':\n",
    "        d[word[1]] = d.get(word[1],0) + 1\n",
    "\n",
    "t = list()\n",
    "\n",
    "for key, val in d.items():\n",
    "    t.append((val, key))\n",
    "\n",
    "t.sort(reverse=True)\n",
    "\n",
    "for val, key in t[0:1]:\n",
    "    print(key, val)"
   ]
  },
  {
   "cell_type": "markdown",
   "metadata": {},
   "source": [
    "#### Exercise 2\n",
    "This program counts the distribution of the hour of the day for\n",
    "each of the messages. You can pull the hour from the “From” line by finding the\n",
    "time string and then splitting that string into parts using the colon character. Once you have accumulated the counts for each hour, print out the counts, one per line, sorted by hour as shown below."
   ]
  },
  {
   "cell_type": "code",
   "execution_count": 46,
   "metadata": {
    "collapsed": true
   },
   "outputs": [
    {
     "name": "stdout",
     "output_type": "stream",
     "text": [
      "Enter a file name: mbox-short.txt\n",
      "04 3\n",
      "06 1\n",
      "07 1\n",
      "09 2\n",
      "10 3\n",
      "11 6\n",
      "14 1\n",
      "15 2\n",
      "16 4\n",
      "17 2\n",
      "18 1\n",
      "19 1\n"
     ]
    }
   ],
   "source": [
    "try:\n",
    "    fname = input(\"Enter a file name: \")\n",
    "    file = open(fname)\n",
    "except:\n",
    "    print(\"Please enter valid file name\")\n",
    "\n",
    "d = dict()\n",
    "for line in file:\n",
    "    word = line.split()\n",
    "    if len(word) > 0 and word [0] == 'From':\n",
    "        wrd = word[5]\n",
    "        pos = wrd.find(\":\")\n",
    "        hour = wrd[:pos]\n",
    "        d[hour] = d.get(hour,0) + 1\n",
    "\n",
    "t = list()\n",
    "for key, val in d.items():\n",
    "    t.append((key,val))\n",
    "\n",
    "t.sort()\n",
    "\n",
    "for key, val in t:\n",
    "    print(key, val)"
   ]
  },
  {
   "cell_type": "markdown",
   "metadata": {},
   "source": [
    "#### Exercise 3\n",
    "Write a program that reads a file and prints the letters in decreasing\n",
    "order of frequency. Your program should convert all the input to lower case and\n",
    "only count the letters a-z. Your program should not count spaces, digits, punctuation, or anything other than the letters a-z. Find text samples from several different languages and see how letter frequency varies between languages."
   ]
  },
  {
   "cell_type": "code",
   "execution_count": null,
   "metadata": {},
   "outputs": [],
   "source": [
    "import string\n",
    "\n",
    "try:\n",
    "    fname = input(\"Enter a file name: \")\n",
    "    file = open(fname)\n",
    "except:\n",
    "    print(\"Please enter valid file name\")\n",
    "\n",
    "d = dict()\n",
    "for line in file:\n",
    "    line = line.translate(line.maketrans('','', string.punctuation))\n",
    "    line = line.translate(line.maketrans('','', \"1234567890\"))\n",
    "    line = line.lower()\n",
    "    words = line.split()\n",
    "    for word in words:\n",
    "        for i in word:\n",
    "            d[i] = d.get(i, 0) + 1\n",
    "t = list()\n",
    "for key, val in d.items():\n",
    "    t.append((key,val))\n",
    "\n",
    "t.sort()\n",
    "\n",
    "for key, val in t:\n",
    "    print(key, val)"
   ]
  },
  {
   "cell_type": "markdown",
   "metadata": {},
   "source": [
    "### Chapter 11: Regular Expressions"
   ]
  },
  {
   "cell_type": "markdown",
   "metadata": {},
   "source": [
    "#### Exercise 1\n",
    "Write a simple program to simulate the operation of the grep command\n",
    "on Unix. Ask the user to enter a regular expression and count the number of\n",
    "lines that matched the regular expression."
   ]
  },
  {
   "cell_type": "code",
   "execution_count": 19,
   "metadata": {},
   "outputs": [
    {
     "name": "stdout",
     "output_type": "stream",
     "text": [
      "Enter a regular expression: asda\n",
      "mbox-short.txt has 0 lines that matched asda\n"
     ]
    }
   ],
   "source": [
    "import re\n",
    "file = open('mbox-short.txt')\n",
    "count = 0\n",
    "\n",
    "try:\n",
    "    regex = input(\"Enter a regular expression: \")\n",
    "    for line in file:\n",
    "        line = line.rstrip()\n",
    "        x = re.findall(regex, line)\n",
    "        if len(x) > 0:\n",
    "            count += 1\n",
    "    print ('mbox-short.txt has', count, 'lines that matched', regex)\n",
    "    \n",
    "except:\n",
    "    print(\"Please enter valid regular expression\")"
   ]
  },
  {
   "cell_type": "markdown",
   "metadata": {},
   "source": [
    "#### Exercise 2\n",
    "Write a program to look for lines of the form New Revision: 39772\n",
    "and extract the number from each of the lines using a regular expression and the findall() method. Compute the average of the numbers and print out the average."
   ]
  },
  {
   "cell_type": "code",
   "execution_count": 105,
   "metadata": {},
   "outputs": [
    {
     "name": "stdout",
     "output_type": "stream",
     "text": [
      "39756.92592592593\n"
     ]
    }
   ],
   "source": [
    "import re\n",
    "file = open('mbox-short.txt')\n",
    "num = []\n",
    "\n",
    "for line in file:\n",
    "    like = line.rstrip()\n",
    "    x = re.findall('^New Revision: ([0-9].*)', line)\n",
    "    if len(x) > 0: \n",
    "        num.append(x)\n",
    "        \n",
    "# Flatten list, since the result is list of list\n",
    "flat_list = [y for x in num for y in x]\n",
    "sum = 0\n",
    "\n",
    "for i in flat_list:  \n",
    "    sum += float(i)\n",
    "\n",
    "print(sum/len(flat_list))"
   ]
  },
  {
   "cell_type": "markdown",
   "metadata": {},
   "source": [
    "### Chapter 12: Networked Programs"
   ]
  },
  {
   "cell_type": "code",
   "execution_count": null,
   "metadata": {},
   "outputs": [],
   "source": []
  },
  {
   "cell_type": "markdown",
   "metadata": {},
   "source": [
    "### Chapter 13: Using Web Services"
   ]
  },
  {
   "cell_type": "code",
   "execution_count": null,
   "metadata": {},
   "outputs": [],
   "source": []
  },
  {
   "cell_type": "markdown",
   "metadata": {},
   "source": [
    "### Chapter 14: Object-Oriented Programming"
   ]
  },
  {
   "cell_type": "code",
   "execution_count": null,
   "metadata": {},
   "outputs": [],
   "source": []
  },
  {
   "cell_type": "markdown",
   "metadata": {},
   "source": [
    "### Chapter 15: Using Databases and SQL"
   ]
  },
  {
   "cell_type": "code",
   "execution_count": null,
   "metadata": {},
   "outputs": [],
   "source": []
  },
  {
   "cell_type": "markdown",
   "metadata": {},
   "source": [
    "### Chapter 16: Visualizing Data"
   ]
  },
  {
   "cell_type": "code",
   "execution_count": null,
   "metadata": {},
   "outputs": [],
   "source": []
  }
 ],
 "metadata": {
  "kernelspec": {
   "display_name": "Python 3",
   "language": "python",
   "name": "python3"
  },
  "language_info": {
   "codemirror_mode": {
    "name": "ipython",
    "version": 3
   },
   "file_extension": ".py",
   "mimetype": "text/x-python",
   "name": "python",
   "nbconvert_exporter": "python",
   "pygments_lexer": "ipython3",
   "version": "3.7.3"
  }
 },
 "nbformat": 4,
 "nbformat_minor": 2
}
